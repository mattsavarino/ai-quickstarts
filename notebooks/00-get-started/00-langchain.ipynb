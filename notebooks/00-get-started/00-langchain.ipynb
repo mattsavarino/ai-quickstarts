{
 "cells": [
  {
   "attachments": {},
   "cell_type": "markdown",
   "metadata": {},
   "source": [
    "# LangChain\n",
    "This notebook demonstrates how to use [LangChain](https://langchain.com/).\n",
    "\n",
    "### Setup\n",
    "[See the initial setup](../../README.md#setup) to start a virtual environment and install packages."
   ]
  },
  {
   "cell_type": "code",
   "execution_count": 15,
   "metadata": {},
   "outputs": [],
   "source": [
    "# Import libraries\n",
    "import os\n",
    "from dotenv import load_dotenv\n",
    "from langchain.llms import OpenAI\n",
    "from langchain.callbacks import get_openai_callback\n",
    "\n",
    "# Load env variables\n",
    "load_dotenv('.env')\n",
    "\n",
    "# Initialize OpenAI API wrapper\n",
    "llm = OpenAI(\n",
    "    openai_api_key=os.environ.get('OPENAI_API_KEY'),\n",
    "    temperature=0.9\n",
    ")"
   ]
  },
  {
   "attachments": {},
   "cell_type": "markdown",
   "metadata": {},
   "source": [
    "### Test Completion"
   ]
  },
  {
   "cell_type": "code",
   "execution_count": 8,
   "metadata": {},
   "outputs": [
    {
     "name": "stdout",
     "output_type": "stream",
     "text": [
      "[\"PixelWear\", \"SewTech\", \"FabFusion\"]\n"
     ]
    }
   ],
   "source": [
    "text = \"Please provide 3 examples of unique company names for a startup that infuses digital components into clothing. Return a valid JSON array of 3 names, for example: [\\\"Name1\\\", \\\"Name2\\\", \\\"Name3\\\"]\"\n",
    "response = llm(text)\n",
    "cleaned_response = response.strip() # remove leading and trailing whitespaces\n",
    "print(cleaned_response)"
   ]
  },
  {
   "attachments": {},
   "cell_type": "markdown",
   "metadata": {},
   "source": [
    "### Prompt Template"
   ]
  },
  {
   "cell_type": "code",
   "execution_count": 18,
   "metadata": {},
   "outputs": [
    {
     "name": "stdout",
     "output_type": "stream",
     "text": [
      "Please provide 3 examples of unique company names for a startup that makes 'fancy dog collars'.\n"
     ]
    }
   ],
   "source": [
    "from langchain.prompts import PromptTemplate\n",
    "\n",
    "prompt = PromptTemplate(\n",
    "    input_variables=[\"product\"],\n",
    "    template=\"Please provide 3 examples of unique company names for a startup that makes '{product}'.\",\n",
    ")\n",
    "formatted_prompt = prompt.format(product=\"fancy dog collars\")\n",
    "print(formatted_prompt)"
   ]
  },
  {
   "attachments": {},
   "cell_type": "markdown",
   "metadata": {},
   "source": [
    "### Chain Prompts\n",
    "Use verbose mode and a callback for debugging and token management."
   ]
  },
  {
   "cell_type": "code",
   "execution_count": 23,
   "metadata": {},
   "outputs": [
    {
     "name": "stdout",
     "output_type": "stream",
     "text": [
      "\n",
      "\n",
      "\u001b[1m> Entering new LLMChain chain...\u001b[0m\n",
      "Prompt after formatting:\n",
      "\u001b[32;1m\u001b[1;3mPlease provide 3 examples of unique company names for a startup that makes fancy dog collars. Return a valid JSON array of 3 names, for example: [\"Name1\", \"Name2\", \"Name3\"]\u001b[0m\n",
      "\n",
      "\u001b[1m> Finished chain.\u001b[0m\n",
      "\n",
      "\n",
      "[\"Fetch Finesse\", \"Collar Couture\", \"Bow Wow Bling\"]\n",
      "\n",
      "\n",
      "Tokens Used: 63\n",
      "\tPrompt Tokens: 42\n",
      "\tCompletion Tokens: 21\n",
      "Successful Requests: 1\n",
      "Total Cost (USD): $0.0012599999999999998\n"
     ]
    }
   ],
   "source": [
    "from langchain.prompts import PromptTemplate\n",
    "from langchain.llms import OpenAI\n",
    "from langchain.chains import LLMChain\n",
    "\n",
    "llm = OpenAI(temperature=0.9)\n",
    "prompt = PromptTemplate(\n",
    "    input_variables=[\"product\"],\n",
    "    template=\"Please provide 3 examples of unique company names for a startup that makes {product}. Return a valid JSON array of 3 names, for example: [\\\"Name1\\\", \\\"Name2\\\", \\\"Name3\\\"]\",\n",
    ")\n",
    "\n",
    "chain = LLMChain(llm=llm, prompt=prompt, verbose=True)\n",
    "\n",
    "with get_openai_callback() as cb:\n",
    "    response = chain.run(\"fancy dog collars\")\n",
    "    print(response)\n",
    "    print(\"\\n\")\n",
    "    print(cb)"
   ]
  }
 ],
 "metadata": {
  "kernelspec": {
   "display_name": "env",
   "language": "python",
   "name": "python3"
  },
  "language_info": {
   "codemirror_mode": {
    "name": "ipython",
    "version": 3
   },
   "file_extension": ".py",
   "mimetype": "text/x-python",
   "name": "python",
   "nbconvert_exporter": "python",
   "pygments_lexer": "ipython3",
   "version": "3.11.4"
  },
  "orig_nbformat": 4
 },
 "nbformat": 4,
 "nbformat_minor": 2
}

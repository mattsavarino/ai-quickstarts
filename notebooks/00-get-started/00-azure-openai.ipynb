{
 "cells": [
  {
   "attachments": {},
   "cell_type": "markdown",
   "metadata": {},
   "source": [
    "# Azure OpenAI\n",
    "This notebook demonstrates how to use cognitive services from [Azure OpenAI](https://azure.microsoft.com/en-us/products/cognitive-services/openai-service/).\n",
    "\n",
    "### Setup\n",
    "[See the initial setup](../../README.md#setup) to start a virtual environment and install packages."
   ]
  },
  {
   "cell_type": "code",
   "execution_count": 6,
   "metadata": {},
   "outputs": [],
   "source": [
    "# Import libraries\n",
    "import openai\n",
    "import os\n",
    "from dotenv import load_dotenv\n",
    "\n",
    "# Load env variables\n",
    "load_dotenv('.env')\n",
    "\n",
    "# Get environment variables for Azure OpenAI key, resource, and deployment from\n",
    "openai.api_key = os.environ.get('AZURE_OPENAI_API_KEY')\n",
    "openai.api_base = os.environ.get('AZURE_OPENAI_ENDPOINT')\n",
    "deployment_name = os.environ.get('AZURE_OPENAI_DEPLOYMENT_NAME')\n",
    "\n",
    "# Define API base and version\n",
    "openai.api_type = \"azure\"\n",
    "openai.api_version = \"2023-05-15\"\n",
    "\n",
    "# print(f\"\"\"{openai.api_base}\\n{deployment_name}\\n{openai.api_version}\"\"\")"
   ]
  },
  {
   "attachments": {},
   "cell_type": "markdown",
   "metadata": {},
   "source": [
    "### Helper Function"
   ]
  },
  {
   "cell_type": "code",
   "execution_count": 7,
   "metadata": {},
   "outputs": [],
   "source": [
    "def create_completion(\n",
    "    prompt,\n",
    "    system_role = \"You are an AI assistant that helps people find information.\",\n",
    "    temperature = 0,\n",
    "    max_tokens = 100,\n",
    "    top_p = 0.95,\n",
    "    debug = False\n",
    "):\n",
    "    messages = [\n",
    "        {\"role\":\"system\",\"content\": system_role},\n",
    "        {\"role\":\"user\", \"content\":prompt}\n",
    "    ]\n",
    "\n",
    "    try:\n",
    "        response = openai.ChatCompletion.create(\n",
    "            engine=deployment_name,\n",
    "            messages=messages,\n",
    "            temperature=temperature,\n",
    "            max_tokens=max_tokens,\n",
    "            top_p=top_p,\n",
    "            frequency_penalty=0,\n",
    "            presence_penalty=0,\n",
    "            stop=None\n",
    "        )\n",
    "    except (openai.error.InvalidRequestError, openai.error.AuthenticationError):\n",
    "        content = \"Error in request to AI assistant.\"\n",
    "    try:\n",
    "        content = response.choices[0].message[\"content\"]\n",
    "    except (IndexError, KeyError):\n",
    "        content = \"Error in response from AI assistant.\"\n",
    "    if debug:\n",
    "        content += f\"\"\"\\n\\n{response.usage}\"\"\"\n",
    "    \n",
    "    return content"
   ]
  },
  {
   "attachments": {},
   "cell_type": "markdown",
   "metadata": {},
   "source": [
    "### Test Completion"
   ]
  },
  {
   "cell_type": "code",
   "execution_count": 8,
   "metadata": {},
   "outputs": [
    {
     "name": "stdout",
     "output_type": "stream",
     "text": [
      "OpenAI aims to create safe and beneficial AGI that benefits humanity and avoids harm.\n",
      "\n",
      "{\n",
      "  \"completion_tokens\": 17,\n",
      "  \"prompt_tokens\": 215,\n",
      "  \"total_tokens\": 232\n",
      "}\n"
     ]
    }
   ],
   "source": [
    "# Sample text to be reused in various examples below\n",
    "text = f\"\"\"\n",
    "OpenAI's mission is to ensure that artificial general intelligence (AGI)—by which we mean highly autonomous systems that outperform humans at most economically valuable work—benefits all of humanity.\\\n",
    "We will attempt to directly build safe and beneficial AGI, but will also consider our mission fulfilled if our work aids others to achieve this outcome.\\\n",
    "To that end, we commit to the following principles:\\\n",
    "Broadly distributed benefits\\\n",
    "We commit to use any influence we obtain over AGI's deployment to ensure it is used for the benefit of all, and to avoid enabling uses of AI or AGI that harm humanity or unduly concentrate power.\\\n",
    "Our primary fiduciary duty is to humanity. We anticipate needing to marshal substantial resources to fulfill our mission, but will always diligently act to minimize conflicts of interest among our employees and stakeholders that could compromise broad benefit.\n",
    "\"\"\"\n",
    "\n",
    "# Zero temperature returns a deterministic response each time\n",
    "prompt = f\"\"\"\n",
    "Summarize text delimited by triple backticks into a single sentence that is less than 20 words:\n",
    "```{text}```\n",
    "\"\"\"\n",
    "response = create_completion(prompt, debug=True)\n",
    "print(response)"
   ]
  }
 ],
 "metadata": {
  "kernelspec": {
   "display_name": "env",
   "language": "python",
   "name": "python3"
  },
  "language_info": {
   "codemirror_mode": {
    "name": "ipython",
    "version": 3
   },
   "file_extension": ".py",
   "mimetype": "text/x-python",
   "name": "python",
   "nbconvert_exporter": "python",
   "pygments_lexer": "ipython3",
   "version": "3.11.4"
  },
  "orig_nbformat": 4
 },
 "nbformat": 4,
 "nbformat_minor": 2
}

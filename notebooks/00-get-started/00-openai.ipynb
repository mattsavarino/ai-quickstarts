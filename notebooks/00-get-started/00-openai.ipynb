{
 "cells": [
  {
   "attachments": {},
   "cell_type": "markdown",
   "metadata": {},
   "source": [
    "# OpenAI\n",
    "This notebook demonstrates how to use APIs from [OpenAI.com](https://openai.com/).\n",
    "\n",
    "### Setup\n",
    "[See the initial setup](../../README.md#setup) to start a virtual environment and install packages."
   ]
  },
  {
   "cell_type": "code",
   "execution_count": 1,
   "metadata": {},
   "outputs": [],
   "source": [
    "# Import libraries\n",
    "import openai\n",
    "import os\n",
    "from dotenv import load_dotenv\n",
    "\n",
    "# Load env variables\n",
    "load_dotenv('.env')\n",
    "\n",
    "# Get and set OpenAI API key\n",
    "openai.api_key = os.environ.get('OPENAI_API_KEY')"
   ]
  },
  {
   "attachments": {},
   "cell_type": "markdown",
   "metadata": {},
   "source": [
    "### Helper Function"
   ]
  },
  {
   "cell_type": "code",
   "execution_count": 2,
   "metadata": {},
   "outputs": [],
   "source": [
    "# Helper function to get completions\n",
    "def create_completion(\n",
    "    prompt,\n",
    "    system_role = \"You are an AI assistant that helps people find information.\",\n",
    "    model = \"gpt-3.5-turbo\",\n",
    "    temperature = 0,\n",
    "    debug = True\n",
    "):\n",
    "    messages = [\n",
    "        {\"role\":\"system\",\"content\": system_role},\n",
    "        {\"role\":\"user\", \"content\":prompt}\n",
    "    ]\n",
    "\n",
    "    try:\n",
    "        response = openai.ChatCompletion.create(model=model, messages=messages, temperature=temperature)\n",
    "    except (openai.error.InvalidRequestError, openai.error.AuthenticationError):\n",
    "        content = \"Error in request to AI assistant.\"\n",
    "    try:\n",
    "        content = response.choices[0].message[\"content\"]\n",
    "    except (IndexError, KeyError):\n",
    "        content = \"Error in the response from the AI assistant.\"\n",
    "    if debug:\n",
    "        content += f\"\"\"\\n\\n{response.usage}\"\"\"\n",
    "    \n",
    "    return content"
   ]
  },
  {
   "attachments": {},
   "cell_type": "markdown",
   "metadata": {},
   "source": [
    "### Test Completion"
   ]
  },
  {
   "cell_type": "code",
   "execution_count": 3,
   "metadata": {},
   "outputs": [
    {
     "name": "stdout",
     "output_type": "stream",
     "text": [
      "OpenAI aims to create safe and beneficial AGI that benefits all of humanity.\n",
      "\n",
      "{\n",
      "  \"prompt_tokens\": 215,\n",
      "  \"completion_tokens\": 16,\n",
      "  \"total_tokens\": 231\n",
      "}\n"
     ]
    }
   ],
   "source": [
    "# Sample text to be reused in various examples below\n",
    "text = f\"\"\"\n",
    "OpenAI's mission is to ensure that artificial general intelligence (AGI)—by which we mean highly autonomous systems that outperform humans at most economically valuable work—benefits all of humanity.\\\n",
    "We will attempt to directly build safe and beneficial AGI, but will also consider our mission fulfilled if our work aids others to achieve this outcome.\\\n",
    "To that end, we commit to the following principles:\\\n",
    "Broadly distributed benefits\\\n",
    "We commit to use any influence we obtain over AGI's deployment to ensure it is used for the benefit of all, and to avoid enabling uses of AI or AGI that harm humanity or unduly concentrate power.\\\n",
    "Our primary fiduciary duty is to humanity. We anticipate needing to marshal substantial resources to fulfill our mission, but will always diligently act to minimize conflicts of interest among our employees and stakeholders that could compromise broad benefit.\n",
    "\"\"\"\n",
    "\n",
    "# Zero temperature returns a deterministic response each time\n",
    "prompt = f\"\"\"\n",
    "Summarize text delimited by triple backticks into a single sentence that is less than 20 words:\n",
    "```{text}```\n",
    "\"\"\"\n",
    "response = create_completion(prompt, debug=True)\n",
    "print(response)"
   ]
  }
 ],
 "metadata": {
  "kernelspec": {
   "display_name": "env",
   "language": "python",
   "name": "python3"
  },
  "language_info": {
   "codemirror_mode": {
    "name": "ipython",
    "version": 3
   },
   "file_extension": ".py",
   "mimetype": "text/x-python",
   "name": "python",
   "nbconvert_exporter": "python",
   "pygments_lexer": "ipython3",
   "version": "3.11.4"
  },
  "orig_nbformat": 4
 },
 "nbformat": 4,
 "nbformat_minor": 2
}
